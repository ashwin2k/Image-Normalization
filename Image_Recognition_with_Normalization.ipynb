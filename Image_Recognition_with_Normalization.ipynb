{
  "nbformat": 4,
  "nbformat_minor": 0,
  "metadata": {
    "colab": {
      "name": "Image Recognition with Normalization",
      "provenance": [],
      "collapsed_sections": [],
      "authorship_tag": "ABX9TyMpkKttqFB/ko411GYEex6o",
      "include_colab_link": true
    },
    "kernelspec": {
      "name": "python3",
      "display_name": "Python 3"
    },
    "accelerator": "GPU"
  },
  "cells": [
    {
      "cell_type": "markdown",
      "metadata": {
        "id": "view-in-github",
        "colab_type": "text"
      },
      "source": [
        "<a href=\"https://colab.research.google.com/github/ashwin2k/Image-Normalization/blob/master/Image_Recognition_with_Normalization.ipynb\" target=\"_parent\"><img src=\"https://colab.research.google.com/assets/colab-badge.svg\" alt=\"Open In Colab\"/></a>"
      ]
    },
    {
      "cell_type": "code",
      "metadata": {
        "id": "-8acOEOj6Ihk",
        "colab_type": "code",
        "colab": {
          "base_uri": "https://localhost:8080/",
          "height": 52
        },
        "outputId": "63ec0305-0cba-4e6d-89b5-80583eca9acc"
      },
      "source": [
        "import tensorflow as tf\n",
        "from tensorflow import keras\n",
        "mnist = tf.keras.datasets.mnist\n",
        "\n",
        "(x_train, y_train),(x_test, y_test) = mnist.load_data()"
      ],
      "execution_count": 1,
      "outputs": [
        {
          "output_type": "stream",
          "text": [
            "Downloading data from https://storage.googleapis.com/tensorflow/tf-keras-datasets/mnist.npz\n",
            "11493376/11490434 [==============================] - 1s 0us/step\n"
          ],
          "name": "stdout"
        }
      ]
    },
    {
      "cell_type": "code",
      "metadata": {
        "id": "mxXK50ub6Zu3",
        "colab_type": "code",
        "colab": {}
      },
      "source": [
        "x_train = x_train.reshape(60000,28,28,1)\n",
        "x_test = x_test.reshape(10000,28,28,1)"
      ],
      "execution_count": null,
      "outputs": []
    },
    {
      "cell_type": "code",
      "metadata": {
        "id": "2zGMklMW6rWh",
        "colab_type": "code",
        "colab": {
          "base_uri": "https://localhost:8080/",
          "height": 193
        },
        "outputId": "7dee22dc-6bae-4acd-d0ce-7b0f1c390c16"
      },
      "source": [
        "model = tf.keras.models.Sequential([\n",
        "        tf.keras.layers.Conv2D(40,kernel_size=(3,3),input_shape=(28,28,1)),\n",
        "        tf.keras.layers.MaxPooling2D(pool_size=(2,2)),\n",
        "        tf.keras.layers.Flatten(input_shape=(28,28,1)),\n",
        "        tf.keras.layers.Dense(900,activation=tf.nn.relu),\n",
        "        tf.keras.layers.Dropout(0.2),\n",
        "        tf.keras.layers.Dense(10,activation='softmax')\n",
        "    ])\n",
        "\n",
        "model.compile(optimizer='adam',\n",
        "                  loss='sparse_categorical_crossentropy',\n",
        "                  metrics=['accuracy'])\n",
        "    \n",
        "# model fitting\n",
        "history = model.fit(x=x_train,y=y_train,epochs=5)"
      ],
      "execution_count": null,
      "outputs": [
        {
          "output_type": "stream",
          "text": [
            "Epoch 1/5\n",
            "1875/1875 [==============================] - 6s 3ms/step - loss: 1.2287 - accuracy: 0.9196\n",
            "Epoch 2/5\n",
            "1875/1875 [==============================] - 6s 3ms/step - loss: 0.2347 - accuracy: 0.9470\n",
            "Epoch 3/5\n",
            "1875/1875 [==============================] - 6s 3ms/step - loss: 0.2128 - accuracy: 0.9512\n",
            "Epoch 4/5\n",
            "1875/1875 [==============================] - 6s 3ms/step - loss: 0.3240 - accuracy: 0.9353\n",
            "Epoch 5/5\n",
            "1875/1875 [==============================] - 6s 3ms/step - loss: 0.2260 - accuracy: 0.9540\n"
          ],
          "name": "stdout"
        }
      ]
    },
    {
      "cell_type": "markdown",
      "metadata": {
        "id": "XAVt02CT7P99",
        "colab_type": "text"
      },
      "source": [
        "#Now, Let's test with the same data by normalizing the input images by dividing by 255.\n",
        "This actually improves performance,since the pixel values are now between 0 and 1, and our activation functions perform more efficiently! Also, the gradient descent algorithm can reach the global minima faster."
      ]
    },
    {
      "cell_type": "code",
      "metadata": {
        "id": "OmfyYHq1615C",
        "colab_type": "code",
        "colab": {}
      },
      "source": [
        "(x_train, y_train),(x_test, y_test) = mnist.load_data()"
      ],
      "execution_count": null,
      "outputs": []
    },
    {
      "cell_type": "code",
      "metadata": {
        "id": "9-A7mktx73Fm",
        "colab_type": "code",
        "colab": {}
      },
      "source": [
        "x_train = x_train.reshape(60000,28,28,1)\n",
        "x_test = x_test.reshape(10000,28,28,1)\n",
        "#Note that I'm dividing the input images by 255,meaning that every pixel in every image gets divided by 255\n",
        "x_train=x_train/255\n",
        "x_test=x_test/255"
      ],
      "execution_count": null,
      "outputs": []
    },
    {
      "cell_type": "code",
      "metadata": {
        "id": "Tnv4Niyh8JWA",
        "colab_type": "code",
        "colab": {
          "base_uri": "https://localhost:8080/",
          "height": 193
        },
        "outputId": "a8f1c064-af7c-4d2c-fe55-f94a4fc3e8de"
      },
      "source": [
        "model = tf.keras.models.Sequential([\n",
        "        tf.keras.layers.Conv2D(40,kernel_size=(3,3),input_shape=(28,28,1)),\n",
        "        tf.keras.layers.MaxPooling2D(pool_size=(2,2)),\n",
        "        tf.keras.layers.Flatten(input_shape=(28,28,1)),\n",
        "        tf.keras.layers.Dense(900,activation=tf.nn.relu),\n",
        "        tf.keras.layers.Dropout(0.2),\n",
        "        tf.keras.layers.Dense(10,activation='softmax')\n",
        "    ])\n",
        "\n",
        "model.compile(optimizer='adam',\n",
        "                  loss='sparse_categorical_crossentropy',\n",
        "                  metrics=['accuracy'])\n",
        "    \n",
        "# model fitting\n",
        "history = model.fit(x=x_train,y=y_train,epochs=5)"
      ],
      "execution_count": null,
      "outputs": [
        {
          "output_type": "stream",
          "text": [
            "Epoch 1/5\n",
            "1875/1875 [==============================] - 6s 3ms/step - loss: 0.1506 - accuracy: 0.9540\n",
            "Epoch 2/5\n",
            "1875/1875 [==============================] - 6s 3ms/step - loss: 0.0578 - accuracy: 0.9820\n",
            "Epoch 3/5\n",
            "1875/1875 [==============================] - 6s 3ms/step - loss: 0.0360 - accuracy: 0.9887\n",
            "Epoch 4/5\n",
            "1875/1875 [==============================] - 6s 3ms/step - loss: 0.0267 - accuracy: 0.9914\n",
            "Epoch 5/5\n",
            "1875/1875 [==============================] - 6s 3ms/step - loss: 0.0237 - accuracy: 0.9923\n"
          ],
          "name": "stdout"
        }
      ]
    },
    {
      "cell_type": "markdown",
      "metadata": {
        "id": "dZpuE2ki8c6H",
        "colab_type": "text"
      },
      "source": [
        "You can see that, we have achieved **99.3% training accuracy** by normalizing the inputs, while without normalization, it's only **96%**.\n",
        "Another method for normalization is by subtracting the mean. This essentially centers the data around the zero mean."
      ]
    },
    {
      "cell_type": "code",
      "metadata": {
        "id": "pcbXiUZ--9I0",
        "colab_type": "code",
        "colab": {}
      },
      "source": [
        ""
      ],
      "execution_count": null,
      "outputs": []
    },
    {
      "cell_type": "code",
      "metadata": {
        "id": "T7EnFENY_Ovc",
        "colab_type": "code",
        "colab": {}
      },
      "source": [
        ""
      ],
      "execution_count": null,
      "outputs": []
    },
    {
      "cell_type": "code",
      "metadata": {
        "id": "ZXf8fJN7_POr",
        "colab_type": "code",
        "colab": {}
      },
      "source": [
        ""
      ],
      "execution_count": null,
      "outputs": []
    }
  ]
}